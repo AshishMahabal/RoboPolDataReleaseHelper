{
 "cells": [
  {
   "cell_type": "markdown",
   "metadata": {},
   "source": [
    "Author: Ashish Mahabal <aam@astro.caltech.edu> for RoboPol collaboration http://robopol.org \n",
    "Dec 2020"
   ]
  },
  {
   "cell_type": "markdown",
   "metadata": {},
   "source": [
    "Acknowledgement:\n",
    "\n",
    "These data are being made available to the public as a service to the astronomical community.\n",
    "If you use RoboPol data in your research, we request that you cite the related publication\n",
    "(https://arxiv.org/abs/2012.00008), allowing us to keep track of the impact of our work,\n",
    "and that you include the following acknowledgement:\n",
    "'This research has made use of data from the RoboPol programme, a collaboration between Caltech,\n",
    "the University of Crete, IA-FORTH, IUCAA, the MPIfR, and the Nicolaus Copernicus University, which was\n",
    "conducted at Skinakas Observatory in Crete, Greece.'"
   ]
  },
  {
   "cell_type": "markdown",
   "metadata": {},
   "source": [
    "Abstract:\n",
    "\n",
    "We present uniformly reprocessed and re-calibrated data from the RoboPol programme of optopolarimetric\n",
    "monitoring of active galactic nuclei (AGN), covering observations between 2013, when the instrument was\n",
    "commissioned, and 2017. In total, the dataset includes 5068 observations of 222 AGN with Dec > -25 deg.\n",
    "Average quantities summarising optopolarimetric behaviour  (average degree of polarization, polarization\n",
    "variability index and preferred polarization angle) are also provided for each source we have observed\n",
    "and for the time interval we have followed it. "
   ]
  },
  {
   "cell_type": "markdown",
   "metadata": {},
   "source": [
    "### Various Imports"
   ]
  },
  {
   "cell_type": "code",
   "execution_count": 1,
   "metadata": {},
   "outputs": [],
   "source": [
    "#%matplotlib widget\n",
    "#%matplotlib notebook\n",
    "#%matplotlib inline\n",
    "%matplotlib nbagg\n",
    "\n",
    "import pandas as pd\n",
    "import matplotlib.pyplot as plt\n",
    "\n",
    "import seaborn as sns\n",
    "sns.set_context('talk')\n",
    "\n",
    "from ipywidgets import interact, interactive, fixed, interact_manual\n",
    "import ipywidgets as widgets\n",
    "\n",
    "from astropy import units as u\n",
    "from astropy.coordinates import SkyCoord\n",
    "\n",
    "import numpy as np\n",
    "\n",
    "\n"
   ]
  },
  {
   "cell_type": "markdown",
   "metadata": {},
   "source": [
    "### Read in data, display columns, and top few lines in the two tables"
   ]
  },
  {
   "cell_type": "code",
   "execution_count": 2,
   "metadata": {},
   "outputs": [],
   "source": [
    "sample = pd.read_csv('sample.csv')\n",
    "data = pd.read_csv('monitoring_data.csv')"
   ]
  },
  {
   "cell_type": "code",
   "execution_count": 3,
   "metadata": {},
   "outputs": [
    {
     "data": {
      "text/plain": [
       "Index(['J2000_name', 'Alt_ID', 'RA[h:m:s]', 'DEC[d:m:s]', 'Redshift',\n",
       "       'Redshift_ref', 'Sample_ID', 'Aperture[arcsec]', 'N_meas', 'N_seas',\n",
       "       'Med_time_sampl_int[d]', 'PD_mean[%]', 'PD_mod_ind', 'EVPA_var_ind',\n",
       "       'Pref_EVPA[deg]'],\n",
       "      dtype='object')"
      ]
     },
     "execution_count": 3,
     "metadata": {},
     "output_type": "execute_result"
    }
   ],
   "source": [
    "sample.columns"
   ]
  },
  {
   "cell_type": "code",
   "execution_count": 4,
   "metadata": {},
   "outputs": [
    {
     "data": {
      "text/plain": [
       "Index(['J2000_name', 'Julian_date', 'Q/I_inst', 'err_Q/I_inst', 'U/I_inst',\n",
       "       'err_U/I_inst', 'Q/I', 'err_Q/I', 'U/I', 'err_U/I', 'PD[%]',\n",
       "       'err_PD[%]', 'EVPA[deg]', 'err_EVPA[deg]'],\n",
       "      dtype='object')"
      ]
     },
     "execution_count": 4,
     "metadata": {},
     "output_type": "execute_result"
    }
   ],
   "source": [
    "data.columns"
   ]
  },
  {
   "cell_type": "code",
   "execution_count": 5,
   "metadata": {},
   "outputs": [
    {
     "data": {
      "text/html": [
       "<div>\n",
       "<style scoped>\n",
       "    .dataframe tbody tr th:only-of-type {\n",
       "        vertical-align: middle;\n",
       "    }\n",
       "\n",
       "    .dataframe tbody tr th {\n",
       "        vertical-align: top;\n",
       "    }\n",
       "\n",
       "    .dataframe thead th {\n",
       "        text-align: right;\n",
       "    }\n",
       "</style>\n",
       "<table border=\"1\" class=\"dataframe\">\n",
       "  <thead>\n",
       "    <tr style=\"text-align: right;\">\n",
       "      <th></th>\n",
       "      <th>J2000_name</th>\n",
       "      <th>Alt_ID</th>\n",
       "      <th>RA[h:m:s]</th>\n",
       "      <th>DEC[d:m:s]</th>\n",
       "      <th>Redshift</th>\n",
       "      <th>Redshift_ref</th>\n",
       "      <th>Sample_ID</th>\n",
       "      <th>Aperture[arcsec]</th>\n",
       "      <th>N_meas</th>\n",
       "      <th>N_seas</th>\n",
       "      <th>Med_time_sampl_int[d]</th>\n",
       "      <th>PD_mean[%]</th>\n",
       "      <th>PD_mod_ind</th>\n",
       "      <th>EVPA_var_ind</th>\n",
       "      <th>Pref_EVPA[deg]</th>\n",
       "    </tr>\n",
       "  </thead>\n",
       "  <tbody>\n",
       "    <tr>\n",
       "      <th>0</th>\n",
       "      <td>RBPLJ0006-0623</td>\n",
       "      <td>PKS 0003-066</td>\n",
       "      <td>00:06:13.9</td>\n",
       "      <td>-06:23:35.3</td>\n",
       "      <td>0.34668</td>\n",
       "      <td>2009MNRAS.399..683J</td>\n",
       "      <td>5</td>\n",
       "      <td>v</td>\n",
       "      <td>15</td>\n",
       "      <td>2</td>\n",
       "      <td>8.0</td>\n",
       "      <td>21.2</td>\n",
       "      <td>0.45</td>\n",
       "      <td>0.13</td>\n",
       "      <td>-14.0</td>\n",
       "    </tr>\n",
       "    <tr>\n",
       "      <th>1</th>\n",
       "      <td>RBPLJ0017+8135</td>\n",
       "      <td>S5 0014+81</td>\n",
       "      <td>00:17:08.5</td>\n",
       "      <td>+81:35:08.1</td>\n",
       "      <td>3.366</td>\n",
       "      <td>1994ApJ...436..678O</td>\n",
       "      <td>2;4</td>\n",
       "      <td>v</td>\n",
       "      <td>30</td>\n",
       "      <td>3</td>\n",
       "      <td>7.0</td>\n",
       "      <td>0.8</td>\n",
       "      <td>0.62</td>\n",
       "      <td>0.65</td>\n",
       "      <td>-</td>\n",
       "    </tr>\n",
       "    <tr>\n",
       "      <th>2</th>\n",
       "      <td>RBPLJ0035+5950</td>\n",
       "      <td>1ES 0033+595</td>\n",
       "      <td>00:35:52.7</td>\n",
       "      <td>+59:50:04.2</td>\n",
       "      <td>0.086</td>\n",
       "      <td>1999A&amp;A...352...85F</td>\n",
       "      <td>5</td>\n",
       "      <td>6</td>\n",
       "      <td>5</td>\n",
       "      <td>1</td>\n",
       "      <td>8.0</td>\n",
       "      <td>-</td>\n",
       "      <td>-</td>\n",
       "      <td>-</td>\n",
       "      <td>-</td>\n",
       "    </tr>\n",
       "    <tr>\n",
       "      <th>3</th>\n",
       "      <td>RBPLJ0045+2127</td>\n",
       "      <td>-</td>\n",
       "      <td>00:45:19.3</td>\n",
       "      <td>+21:27:40.0</td>\n",
       "      <td>-</td>\n",
       "      <td>-</td>\n",
       "      <td>3</td>\n",
       "      <td>v</td>\n",
       "      <td>64</td>\n",
       "      <td>4</td>\n",
       "      <td>3.0</td>\n",
       "      <td>4.83</td>\n",
       "      <td>0.59</td>\n",
       "      <td>0.84</td>\n",
       "      <td>-</td>\n",
       "    </tr>\n",
       "    <tr>\n",
       "      <th>4</th>\n",
       "      <td>RBPLJ0102+5824</td>\n",
       "      <td>TXS 0059+581</td>\n",
       "      <td>01:02:45.8</td>\n",
       "      <td>+58:24:11.1</td>\n",
       "      <td>0.644</td>\n",
       "      <td>2005ApJ...626...95S</td>\n",
       "      <td>5</td>\n",
       "      <td>v</td>\n",
       "      <td>18</td>\n",
       "      <td>3</td>\n",
       "      <td>9.0</td>\n",
       "      <td>13.45</td>\n",
       "      <td>0.32</td>\n",
       "      <td>0.53</td>\n",
       "      <td>-</td>\n",
       "    </tr>\n",
       "  </tbody>\n",
       "</table>\n",
       "</div>"
      ],
      "text/plain": [
       "       J2000_name        Alt_ID   RA[h:m:s]   DEC[d:m:s] Redshift  \\\n",
       "0  RBPLJ0006-0623  PKS 0003-066  00:06:13.9  -06:23:35.3  0.34668   \n",
       "1  RBPLJ0017+8135    S5 0014+81  00:17:08.5  +81:35:08.1    3.366   \n",
       "2  RBPLJ0035+5950  1ES 0033+595  00:35:52.7  +59:50:04.2    0.086   \n",
       "3  RBPLJ0045+2127             -  00:45:19.3  +21:27:40.0        -   \n",
       "4  RBPLJ0102+5824  TXS 0059+581  01:02:45.8  +58:24:11.1    0.644   \n",
       "\n",
       "          Redshift_ref Sample_ID Aperture[arcsec]  N_meas  N_seas  \\\n",
       "0  2009MNRAS.399..683J         5                v      15       2   \n",
       "1  1994ApJ...436..678O       2;4                v      30       3   \n",
       "2  1999A&A...352...85F         5                6       5       1   \n",
       "3                    -         3                v      64       4   \n",
       "4  2005ApJ...626...95S         5                v      18       3   \n",
       "\n",
       "  Med_time_sampl_int[d] PD_mean[%] PD_mod_ind EVPA_var_ind Pref_EVPA[deg]  \n",
       "0                   8.0       21.2       0.45         0.13          -14.0  \n",
       "1                   7.0        0.8       0.62         0.65              -  \n",
       "2                   8.0          -          -            -              -  \n",
       "3                   3.0       4.83       0.59         0.84              -  \n",
       "4                   9.0      13.45       0.32         0.53              -  "
      ]
     },
     "execution_count": 5,
     "metadata": {},
     "output_type": "execute_result"
    }
   ],
   "source": [
    "sample.head()"
   ]
  },
  {
   "cell_type": "code",
   "execution_count": 6,
   "metadata": {},
   "outputs": [
    {
     "data": {
      "text/html": [
       "<div>\n",
       "<style scoped>\n",
       "    .dataframe tbody tr th:only-of-type {\n",
       "        vertical-align: middle;\n",
       "    }\n",
       "\n",
       "    .dataframe tbody tr th {\n",
       "        vertical-align: top;\n",
       "    }\n",
       "\n",
       "    .dataframe thead th {\n",
       "        text-align: right;\n",
       "    }\n",
       "</style>\n",
       "<table border=\"1\" class=\"dataframe\">\n",
       "  <thead>\n",
       "    <tr style=\"text-align: right;\">\n",
       "      <th></th>\n",
       "      <th>J2000_name</th>\n",
       "      <th>Julian_date</th>\n",
       "      <th>Q/I_inst</th>\n",
       "      <th>err_Q/I_inst</th>\n",
       "      <th>U/I_inst</th>\n",
       "      <th>err_U/I_inst</th>\n",
       "      <th>Q/I</th>\n",
       "      <th>err_Q/I</th>\n",
       "      <th>U/I</th>\n",
       "      <th>err_U/I</th>\n",
       "      <th>PD[%]</th>\n",
       "      <th>err_PD[%]</th>\n",
       "      <th>EVPA[deg]</th>\n",
       "      <th>err_EVPA[deg]</th>\n",
       "    </tr>\n",
       "  </thead>\n",
       "  <tbody>\n",
       "    <tr>\n",
       "      <th>0</th>\n",
       "      <td>RBPLJ0006-0623</td>\n",
       "      <td>2.456550e+06</td>\n",
       "      <td>0.066</td>\n",
       "      <td>0.006</td>\n",
       "      <td>-0.124</td>\n",
       "      <td>0.006</td>\n",
       "      <td>0.063</td>\n",
       "      <td>0.008</td>\n",
       "      <td>-0.126</td>\n",
       "      <td>0.007</td>\n",
       "      <td>14.1</td>\n",
       "      <td>0.7</td>\n",
       "      <td>-31.8</td>\n",
       "      <td>1.4</td>\n",
       "    </tr>\n",
       "    <tr>\n",
       "      <th>1</th>\n",
       "      <td>RBPLJ0006-0623</td>\n",
       "      <td>2.456572e+06</td>\n",
       "      <td>0.204</td>\n",
       "      <td>0.009</td>\n",
       "      <td>-0.002</td>\n",
       "      <td>0.009</td>\n",
       "      <td>0.205</td>\n",
       "      <td>0.009</td>\n",
       "      <td>-0.009</td>\n",
       "      <td>0.012</td>\n",
       "      <td>20.5</td>\n",
       "      <td>0.9</td>\n",
       "      <td>-1.3</td>\n",
       "      <td>1.3</td>\n",
       "    </tr>\n",
       "    <tr>\n",
       "      <th>2</th>\n",
       "      <td>RBPLJ0006-0623</td>\n",
       "      <td>2.456589e+06</td>\n",
       "      <td>0.287</td>\n",
       "      <td>0.011</td>\n",
       "      <td>-0.091</td>\n",
       "      <td>0.009</td>\n",
       "      <td>0.285</td>\n",
       "      <td>0.012</td>\n",
       "      <td>-0.102</td>\n",
       "      <td>0.014</td>\n",
       "      <td>30.3</td>\n",
       "      <td>1.2</td>\n",
       "      <td>-9.8</td>\n",
       "      <td>1.1</td>\n",
       "    </tr>\n",
       "    <tr>\n",
       "      <th>3</th>\n",
       "      <td>RBPLJ0006-0623</td>\n",
       "      <td>2.456593e+06</td>\n",
       "      <td>0.308</td>\n",
       "      <td>0.010</td>\n",
       "      <td>-0.128</td>\n",
       "      <td>0.009</td>\n",
       "      <td>0.304</td>\n",
       "      <td>0.011</td>\n",
       "      <td>-0.139</td>\n",
       "      <td>0.014</td>\n",
       "      <td>33.5</td>\n",
       "      <td>1.2</td>\n",
       "      <td>-12.3</td>\n",
       "      <td>1.0</td>\n",
       "    </tr>\n",
       "    <tr>\n",
       "      <th>4</th>\n",
       "      <td>RBPLJ0006-0623</td>\n",
       "      <td>2.456599e+06</td>\n",
       "      <td>0.310</td>\n",
       "      <td>0.004</td>\n",
       "      <td>-0.146</td>\n",
       "      <td>0.004</td>\n",
       "      <td>0.306</td>\n",
       "      <td>0.008</td>\n",
       "      <td>-0.157</td>\n",
       "      <td>0.012</td>\n",
       "      <td>34.4</td>\n",
       "      <td>0.9</td>\n",
       "      <td>-13.6</td>\n",
       "      <td>0.7</td>\n",
       "    </tr>\n",
       "  </tbody>\n",
       "</table>\n",
       "</div>"
      ],
      "text/plain": [
       "       J2000_name   Julian_date  Q/I_inst  err_Q/I_inst  U/I_inst  \\\n",
       "0  RBPLJ0006-0623  2.456550e+06     0.066         0.006    -0.124   \n",
       "1  RBPLJ0006-0623  2.456572e+06     0.204         0.009    -0.002   \n",
       "2  RBPLJ0006-0623  2.456589e+06     0.287         0.011    -0.091   \n",
       "3  RBPLJ0006-0623  2.456593e+06     0.308         0.010    -0.128   \n",
       "4  RBPLJ0006-0623  2.456599e+06     0.310         0.004    -0.146   \n",
       "\n",
       "   err_U/I_inst    Q/I  err_Q/I    U/I  err_U/I  PD[%]  err_PD[%]  EVPA[deg]  \\\n",
       "0         0.006  0.063    0.008 -0.126    0.007   14.1        0.7      -31.8   \n",
       "1         0.009  0.205    0.009 -0.009    0.012   20.5        0.9       -1.3   \n",
       "2         0.009  0.285    0.012 -0.102    0.014   30.3        1.2       -9.8   \n",
       "3         0.009  0.304    0.011 -0.139    0.014   33.5        1.2      -12.3   \n",
       "4         0.004  0.306    0.008 -0.157    0.012   34.4        0.9      -13.6   \n",
       "\n",
       "   err_EVPA[deg]  \n",
       "0            1.4  \n",
       "1            1.3  \n",
       "2            1.1  \n",
       "3            1.0  \n",
       "4            0.7  "
      ]
     },
     "execution_count": 6,
     "metadata": {},
     "output_type": "execute_result"
    }
   ],
   "source": [
    "data.head()"
   ]
  },
  {
   "cell_type": "markdown",
   "metadata": {},
   "source": [
    "### Convert RA/Dec to degrees and add those as separate columns"
   ]
  },
  {
   "cell_type": "code",
   "execution_count": 7,
   "metadata": {},
   "outputs": [],
   "source": [
    "radeg = []\n",
    "decdeg = []\n",
    "for i in range(len(sample['RA[h:m:s]'])):\n",
    "    c = SkyCoord(sample.iloc[i]['RA[h:m:s]'],sample.iloc[i]['DEC[d:m:s]'], unit=(u.hourangle, u.deg))\n",
    "    #print(c.ra.deg,c.dec.deg)\n",
    "    radeg.append(c.ra.deg)\n",
    "    decdeg.append(c.dec.deg)\n",
    "    \n",
    "sample.insert(4,'RA_deg',radeg,True)\n",
    "sample.insert(5,'DEC_deg',decdeg,True)"
   ]
  },
  {
   "cell_type": "markdown",
   "metadata": {},
   "source": [
    "### The redshift column contains a few non-numeric flags. Move them to an independent column"
   ]
  },
  {
   "cell_type": "code",
   "execution_count": 9,
   "metadata": {},
   "outputs": [
    {
     "name": "stderr",
     "output_type": "stream",
     "text": [
      "/Users/aam/miniconda3/lib/python3.6/site-packages/ipykernel_launcher.py:10: SettingWithCopyWarning: \n",
      "A value is trying to be set on a copy of a slice from a DataFrame\n",
      "\n",
      "See the caveats in the documentation: https://pandas.pydata.org/pandas-docs/stable/user_guide/indexing.html#returning-a-view-versus-a-copy\n",
      "  # Remove the CWD from sys.path while we load stuff.\n"
     ]
    }
   ],
   "source": [
    "RedshiftFlag = []\n",
    "flags = ['-','m','l','*']\n",
    "for i in range(len(sample['Redshift'])):\n",
    "    #print(sample['Redshift'][i][-1])\n",
    "    if sample['Redshift'][i][-1] in flags:\n",
    "        RedshiftFlag.append(sample['Redshift'][i][-1])\n",
    "        newval = sample['Redshift'][i][:-1]\n",
    "        if newval == '':\n",
    "            newval = 'NaN'\n",
    "        sample.Redshift[i]=newval\n",
    "    else:\n",
    "        RedshiftFlag.append('')\n",
    "        \n",
    "sample.insert(7,'RedshiftFlag',RedshiftFlag,True)\n",
    "\n",
    "sample = sample.astype({\"Redshift\": float})"
   ]
  },
  {
   "cell_type": "markdown",
   "metadata": {},
   "source": [
    "### Convert '-' in a few other columns to NaNs, and recast the columns as float"
   ]
  },
  {
   "cell_type": "code",
   "execution_count": 10,
   "metadata": {},
   "outputs": [
    {
     "name": "stderr",
     "output_type": "stream",
     "text": [
      "/Users/aam/miniconda3/lib/python3.6/site-packages/ipykernel_launcher.py:5: SettingWithCopyWarning: \n",
      "A value is trying to be set on a copy of a slice from a DataFrame\n",
      "\n",
      "See the caveats in the documentation: https://pandas.pydata.org/pandas-docs/stable/user_guide/indexing.html#returning-a-view-versus-a-copy\n",
      "  \"\"\"\n"
     ]
    }
   ],
   "source": [
    "cols = ['PD_mean[%]','PD_mod_ind','EVPA_var_ind','Pref_EVPA[deg]']\n",
    "for col in cols:\n",
    "    for i in range(len(sample[col])):\n",
    "        if sample[col][i] == '-':\n",
    "            sample[col][i] = 'NaN'"
   ]
  },
  {
   "cell_type": "code",
   "execution_count": null,
   "metadata": {},
   "outputs": [],
   "source": [
    "for col in cols:\n",
    "    sample = sample.astype({col: float})"
   ]
  },
  {
   "cell_type": "markdown",
   "metadata": {},
   "source": [
    "### Plot histogram of redshifts. These and other plots are interactive and allow panning etc."
   ]
  },
  {
   "cell_type": "code",
   "execution_count": null,
   "metadata": {},
   "outputs": [],
   "source": [
    "fig, ax = plt.subplots(figsize=(6, 4))\n",
    "ax.hist(sample['Redshift'],range=(0,4),bins=20)\n",
    "plt.xlabel('Redshift')\n",
    "plt.ylabel('n')\n",
    "plt.tight_layout()"
   ]
  },
  {
   "cell_type": "markdown",
   "metadata": {},
   "source": [
    "### Collect list of sources, and variables to plot interactively\n",
    "The sources can be selected through drop-down menus"
   ]
  },
  {
   "cell_type": "code",
   "execution_count": null,
   "metadata": {},
   "outputs": [],
   "source": [
    "sources = sample['J2000_name']\n",
    "vars = ['Q/I','U/I','PD[%]','EVPA[deg]']\n",
    "evars = {'Q/I':'err_Q/I','U/I':'err_U/I','PD[%]':'err_PD[%]','EVPA[deg]':'err_EVPA[deg]'}"
   ]
  },
  {
   "cell_type": "code",
   "execution_count": null,
   "metadata": {},
   "outputs": [],
   "source": [
    "def plotfun(source,var):\n",
    "    fig, ax = plt.subplots(figsize=(6, 4))\n",
    "    ax.errorbar(data[data['J2000_name']==source]['Julian_date'],\n",
    "                data[data['J2000_name']==source][var],\n",
    "                yerr=data[data['J2000_name']==source][evars[var]], \n",
    "                fmt='.')\n",
    "    plt.title(\"%s (n=%d)\" % (source,sample[sample['J2000_name']==source]['N_meas']))\n",
    "    plt.xlabel('Julian Date')\n",
    "    plt.ylabel(var)\n",
    "    plt.tight_layout()\n",
    "interact(plotfun,source=sources, var=vars)"
   ]
  },
  {
   "cell_type": "markdown",
   "metadata": {},
   "source": [
    "### Plot the RA-Dec distribution. Also in Aiotoff projection"
   ]
  },
  {
   "cell_type": "code",
   "execution_count": null,
   "metadata": {},
   "outputs": [],
   "source": [
    "fig, ax = plt.subplots(figsize=(6, 4))\n",
    "ax.scatter(sample['RA_deg'],sample['DEC_deg'])\n",
    "plt.xlabel('RA')\n",
    "plt.ylabel('Dec')\n",
    "plt.tight_layout()"
   ]
  },
  {
   "cell_type": "code",
   "execution_count": null,
   "metadata": {},
   "outputs": [],
   "source": [
    "fig = plt.figure(figsize=(8,6))\n",
    "ax = fig.add_subplot(111, projection=\"aitoff\")\n",
    "ra = sample['RA_deg']\n",
    "#ra = ra.wrap_at(180*u.degree)\n",
    "ra = np.where(ra>180,ra-360,ra)\n",
    "dec = sample['DEC_deg']\n",
    "ax.scatter(ra/57.3,dec/57.3)\n",
    "ax.set_xticklabels(['14h','16h','18h','20h','22h','0h','2h','4h','6h','8h','10h'])\n",
    "ax.grid(True)"
   ]
  },
  {
   "cell_type": "markdown",
   "metadata": {},
   "source": [
    "### Plot modulation index and EVPA. Substitute as needed for other columns from above"
   ]
  },
  {
   "cell_type": "code",
   "execution_count": null,
   "metadata": {},
   "outputs": [],
   "source": [
    "fig, ax = plt.subplots(figsize=(6, 4))\n",
    "ax.scatter(sample['PD_mod_ind'],sample['EVPA_var_ind'])\n",
    "plt.xlabel('Intrinsic Modulation Index')\n",
    "plt.ylabel('EVPA Variability Index')\n",
    "plt.tight_layout()"
   ]
  },
  {
   "cell_type": "markdown",
   "metadata": {},
   "source": [
    "### Display column types. Modify types of remaining columns as above if needed"
   ]
  },
  {
   "cell_type": "code",
   "execution_count": null,
   "metadata": {},
   "outputs": [],
   "source": [
    "sample.dtypes"
   ]
  },
  {
   "cell_type": "code",
   "execution_count": null,
   "metadata": {},
   "outputs": [],
   "source": []
  }
 ],
 "metadata": {
  "kernelspec": {
   "display_name": "Python 3",
   "language": "python",
   "name": "python3"
  },
  "language_info": {
   "codemirror_mode": {
    "name": "ipython",
    "version": 3
   },
   "file_extension": ".py",
   "mimetype": "text/x-python",
   "name": "python",
   "nbconvert_exporter": "python",
   "pygments_lexer": "ipython3",
   "version": "3.6.10"
  }
 },
 "nbformat": 4,
 "nbformat_minor": 2
}
